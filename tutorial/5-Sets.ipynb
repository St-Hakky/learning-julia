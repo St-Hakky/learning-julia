{
 "cells": [
  {
   "cell_type": "markdown",
   "metadata": {
    "toc": "true"
   },
   "source": [
    "# Table of Contents\n",
    " <p><div class=\"lev1 toc-item\"><a href=\"#Sets\" data-toc-modified-id=\"Sets-1\"><span class=\"toc-item-num\">1&nbsp;&nbsp;</span>Sets</a></div><div class=\"lev1 toc-item\"><a href=\"#集合の操作\" data-toc-modified-id=\"集合の操作-2\"><span class=\"toc-item-num\">2&nbsp;&nbsp;</span>集合の操作</a></div><div class=\"lev2 toc-item\"><a href=\"#要素の追加\" data-toc-modified-id=\"要素の追加-21\"><span class=\"toc-item-num\">2.1&nbsp;&nbsp;</span>要素の追加</a></div><div class=\"lev2 toc-item\"><a href=\"#要素の削除\" data-toc-modified-id=\"要素の削除-22\"><span class=\"toc-item-num\">2.2&nbsp;&nbsp;</span>要素の削除</a></div><div class=\"lev2 toc-item\"><a href=\"#要素の存在判定\" data-toc-modified-id=\"要素の存在判定-23\"><span class=\"toc-item-num\">2.3&nbsp;&nbsp;</span>要素の存在判定</a></div><div class=\"lev1 toc-item\"><a href=\"#集合間の演算\" data-toc-modified-id=\"集合間の演算-3\"><span class=\"toc-item-num\">3&nbsp;&nbsp;</span>集合間の演算</a></div><div class=\"lev2 toc-item\"><a href=\"#Union-(和集合)\" data-toc-modified-id=\"Union-(和集合)-31\"><span class=\"toc-item-num\">3.1&nbsp;&nbsp;</span>Union (和集合)</a></div><div class=\"lev2 toc-item\"><a href=\"#Intersection-(積集合)\" data-toc-modified-id=\"Intersection-(積集合)-32\"><span class=\"toc-item-num\">3.2&nbsp;&nbsp;</span>Intersection (積集合)</a></div><div class=\"lev2 toc-item\"><a href=\"#Difference(差集合)\" data-toc-modified-id=\"Difference(差集合)-33\"><span class=\"toc-item-num\">3.3&nbsp;&nbsp;</span>Difference(差集合)</a></div>"
   ]
  },
  {
   "cell_type": "markdown",
   "metadata": {},
   "source": [
    "# Sets"
   ]
  },
  {
   "cell_type": "code",
   "execution_count": 1,
   "metadata": {
    "ExecuteTime": {
     "end_time": "2018-02-02T10:42:30.709000Z",
     "start_time": "2018-02-02T01:42:29.606Z"
    }
   },
   "outputs": [
    {
     "data": {
      "text/plain": [
       "Set(String[\"orange\", \"banana\", \"apple\"])"
      ]
     },
     "execution_count": 1,
     "metadata": {},
     "output_type": "execute_result"
    }
   ],
   "source": [
    "# まず定義の仕方は、以下のような感じ。\n",
    "# pythonと違い大文字\n",
    "fruits = Set([\"apple\", \"banana\", \"orange\"])"
   ]
  },
  {
   "cell_type": "code",
   "execution_count": 2,
   "metadata": {
    "ExecuteTime": {
     "end_time": "2018-02-02T10:42:31.109000Z",
     "start_time": "2018-02-02T01:42:29.782Z"
    }
   },
   "outputs": [
    {
     "ename": "LoadError",
     "evalue": "\u001b[91mUndefVarError: set not defined\u001b[39m",
     "output_type": "error",
     "traceback": [
      "\u001b[91mUndefVarError: set not defined\u001b[39m",
      ""
     ]
    }
   ],
   "source": [
    "# 小文字にするとエラーが起こる\n",
    "fruits = set([\"apple\", \"banana\", \"orange\"])"
   ]
  },
  {
   "cell_type": "code",
   "execution_count": 3,
   "metadata": {
    "ExecuteTime": {
     "end_time": "2018-02-02T10:42:31.117000Z",
     "start_time": "2018-02-02T01:42:29.967Z"
    }
   },
   "outputs": [
    {
     "data": {
      "text/plain": [
       "Set(String[\"orange\", \"banana\", \"apple\"])"
      ]
     },
     "execution_count": 3,
     "metadata": {},
     "output_type": "execute_result"
    }
   ],
   "source": [
    "# 型の自動判定もしてくれるが、自分で指定もできる。\n",
    "fruits = Set{String}([\"apple\", \"banana\", \"orange\"])"
   ]
  },
  {
   "cell_type": "code",
   "execution_count": 4,
   "metadata": {
    "ExecuteTime": {
     "end_time": "2018-02-02T10:42:32.119000Z",
     "start_time": "2018-02-02T01:42:31.806Z"
    }
   },
   "outputs": [
    {
     "data": {
      "text/plain": [
       "Set(Any[\"orange\", \"banana\", \"apple\", 1])"
      ]
     },
     "execution_count": 4,
     "metadata": {},
     "output_type": "execute_result"
    }
   ],
   "source": [
    "# 複数の型の値も入れられる\n",
    "fruits = Set([\"apple\", \"banana\", \"orange\", 1])"
   ]
  },
  {
   "cell_type": "code",
   "execution_count": 5,
   "metadata": {
    "ExecuteTime": {
     "end_time": "2018-02-02T10:42:32.603000Z",
     "start_time": "2018-02-02T01:42:32.558Z"
    }
   },
   "outputs": [
    {
     "data": {
      "text/plain": [
       "Set{Any}()"
      ]
     },
     "execution_count": 5,
     "metadata": {},
     "output_type": "execute_result"
    }
   ],
   "source": [
    "# 空の集合を定義して、あとから追加することも可能。\n",
    "fruits = Set()"
   ]
  },
  {
   "cell_type": "code",
   "execution_count": 6,
   "metadata": {
    "ExecuteTime": {
     "end_time": "2018-02-02T10:42:32.995000Z",
     "start_time": "2018-02-02T01:42:32.989Z"
    }
   },
   "outputs": [
    {
     "ename": "LoadError",
     "evalue": "\u001b[91mUndefVarError: Set1 not defined\u001b[39m",
     "output_type": "error",
     "traceback": [
      "\u001b[91mUndefVarError: Set1 not defined\u001b[39m",
      ""
     ]
    }
   ],
   "source": [
    "# 型を指定しておくこともできる。\n",
    "fruits = Set1{String}()"
   ]
  },
  {
   "cell_type": "markdown",
   "metadata": {},
   "source": [
    "# 集合の操作"
   ]
  },
  {
   "cell_type": "markdown",
   "metadata": {},
   "source": [
    "## 要素の追加"
   ]
  },
  {
   "cell_type": "code",
   "execution_count": 7,
   "metadata": {
    "ExecuteTime": {
     "end_time": "2018-02-02T10:42:35.630000Z",
     "start_time": "2018-02-02T01:42:35.623Z"
    }
   },
   "outputs": [
    {
     "data": {
      "text/plain": [
       "Set(Any[\"apple\"])"
      ]
     },
     "execution_count": 7,
     "metadata": {},
     "output_type": "execute_result"
    }
   ],
   "source": [
    "# 定番の要素の追加。pushを使う\n",
    "fruits = Set()\n",
    "push!(fruits, \"apple\")\n",
    "fruits"
   ]
  },
  {
   "cell_type": "code",
   "execution_count": 8,
   "metadata": {
    "ExecuteTime": {
     "end_time": "2018-02-02T10:42:35.793000Z",
     "start_time": "2018-02-02T01:42:35.789Z"
    }
   },
   "outputs": [
    {
     "data": {
      "text/plain": [
       "Set(Any[\"apple\"])"
      ]
     },
     "execution_count": 8,
     "metadata": {},
     "output_type": "execute_result"
    }
   ],
   "source": [
    "# 同じ要素を追加しても、集合なので一つだけしか保持しない。エラーも出ない\n",
    "fruits = Set()\n",
    "push!(fruits, \"apple\")\n",
    "push!(fruits, \"apple\")\n",
    "fruits"
   ]
  },
  {
   "cell_type": "code",
   "execution_count": 9,
   "metadata": {
    "ExecuteTime": {
     "end_time": "2018-02-02T10:42:36.291000Z",
     "start_time": "2018-02-02T01:42:36.285Z"
    }
   },
   "outputs": [
    {
     "ename": "LoadError",
     "evalue": "\u001b[91mUndefVarError: Set1 not defined\u001b[39m",
     "output_type": "error",
     "traceback": [
      "\u001b[91mUndefVarError: Set1 not defined\u001b[39m",
      ""
     ]
    }
   ],
   "source": [
    "# 型を指定しておいたものに、その型で扱えない値を入れようとすると当然エラーになる\n",
    "fruits = Set1{String}()\n",
    "push!(fruits, 1)\n",
    "fruits"
   ]
  },
  {
   "cell_type": "code",
   "execution_count": 10,
   "metadata": {
    "ExecuteTime": {
     "end_time": "2018-02-02T10:42:37.061000Z",
     "start_time": "2018-02-02T01:42:36.990Z"
    }
   },
   "outputs": [
    {
     "ename": "LoadError",
     "evalue": "\u001b[91mtype Set has no field add\u001b[39m",
     "output_type": "error",
     "traceback": [
      "\u001b[91mtype Set has no field add\u001b[39m",
      ""
     ]
    }
   ],
   "source": [
    "# pythonだと、集合の要素の追加にaddってつかえるけど、Juliaだと無理\n",
    "fruits.add(\"apple\")"
   ]
  },
  {
   "cell_type": "markdown",
   "metadata": {},
   "source": [
    "## 要素の削除"
   ]
  },
  {
   "cell_type": "code",
   "execution_count": 11,
   "metadata": {
    "ExecuteTime": {
     "end_time": "2018-02-02T10:42:38.291000Z",
     "start_time": "2018-02-02T01:42:38.269Z"
    }
   },
   "outputs": [
    {
     "data": {
      "text/plain": [
       "Set(String[\"banana\"])"
      ]
     },
     "execution_count": 11,
     "metadata": {},
     "output_type": "execute_result"
    }
   ],
   "source": [
    "# 要素の削除は、popを使う\n",
    "fruits = Set([\"apple\", \"banana\"])\n",
    "pop!(fruits, \"apple\")\n",
    "fruits"
   ]
  },
  {
   "cell_type": "code",
   "execution_count": 12,
   "metadata": {
    "ExecuteTime": {
     "end_time": "2018-02-02T10:42:39.177000Z",
     "start_time": "2018-02-02T01:42:38.877Z"
    }
   },
   "outputs": [
    {
     "ename": "LoadError",
     "evalue": "\u001b[91mKeyError: key \"orange\" not found\u001b[39m",
     "output_type": "error",
     "traceback": [
      "\u001b[91mKeyError: key \"orange\" not found\u001b[39m",
      "",
      "Stacktrace:",
      " [1] \u001b[1mpop!\u001b[22m\u001b[22m\u001b[1m(\u001b[22m\u001b[22m::Dict{String,Void}, ::String\u001b[1m)\u001b[22m\u001b[22m at \u001b[1m.\\dict.jl:539\u001b[22m\u001b[22m",
      " [2] \u001b[1mpop!\u001b[22m\u001b[22m\u001b[1m(\u001b[22m\u001b[22m::Set{String}, ::String\u001b[1m)\u001b[22m\u001b[22m at \u001b[1m.\\set.jl:36\u001b[22m\u001b[22m"
     ]
    }
   ],
   "source": [
    "# 存在しない要素を削除しようとすると、エラーがでる。\n",
    "fruits = Set([\"apple\", \"banana\"])\n",
    "pop!(fruits, \"orange\")\n",
    "fruits"
   ]
  },
  {
   "cell_type": "markdown",
   "metadata": {},
   "source": [
    "## 要素の存在判定"
   ]
  },
  {
   "cell_type": "code",
   "execution_count": 13,
   "metadata": {
    "ExecuteTime": {
     "end_time": "2018-02-02T10:42:40.145000Z",
     "start_time": "2018-02-02T01:42:40.006Z"
    }
   },
   "outputs": [
    {
     "data": {
      "text/plain": [
       "true"
      ]
     },
     "execution_count": 13,
     "metadata": {},
     "output_type": "execute_result"
    }
   ],
   "source": [
    "# 要素が存在しているかどうかを確かめるには以下のようにする\n",
    "fruits = Set([\"apple\", \"banana\"])\n",
    "in(\"banana\", fruits) # true"
   ]
  },
  {
   "cell_type": "markdown",
   "metadata": {},
   "source": [
    "# 集合間の演算"
   ]
  },
  {
   "cell_type": "code",
   "execution_count": 14,
   "metadata": {
    "ExecuteTime": {
     "end_time": "2018-02-02T10:42:41.435000Z",
     "start_time": "2018-02-02T01:42:41.198Z"
    }
   },
   "outputs": [
    {
     "data": {
      "text/plain": [
       "Set([4, 2, 3, 1])"
      ]
     },
     "execution_count": 14,
     "metadata": {},
     "output_type": "execute_result"
    }
   ],
   "source": [
    "# ここで使う集合をまず定義しておきます。\n",
    "fruits = Set([\"apple\", \"banana\", \"orange\"])\n",
    "another_fruits = Set([\"apple\", \"peach\"])\n",
    "drink = Set([\"coffee\", \"yogurt drink\", \"cocoa\"])\n",
    "number = Set([1,2,3,4])"
   ]
  },
  {
   "cell_type": "markdown",
   "metadata": {},
   "source": [
    "## Union (和集合)"
   ]
  },
  {
   "cell_type": "code",
   "execution_count": 15,
   "metadata": {
    "ExecuteTime": {
     "end_time": "2018-02-02T10:42:42.300000Z",
     "start_time": "2018-02-02T01:42:42.277Z"
    }
   },
   "outputs": [
    {
     "data": {
      "text/plain": [
       "Set(String[\"orange\", \"coffee\", \"yogurt drink\", \"banana\", \"cocoa\", \"apple\"])"
      ]
     },
     "execution_count": 15,
     "metadata": {},
     "output_type": "execute_result"
    }
   ],
   "source": [
    "# まずはunionから。同じ型どうしのものの和集合を取ってみる\n",
    "union(fruits, drink)"
   ]
  },
  {
   "cell_type": "code",
   "execution_count": 16,
   "metadata": {
    "ExecuteTime": {
     "end_time": "2018-02-02T10:42:42.806000Z",
     "start_time": "2018-02-02T01:42:42.774Z"
    }
   },
   "outputs": [
    {
     "data": {
      "text/plain": [
       "Set(Any[4, 2, \"orange\", 3, \"banana\", \"apple\", 1])"
      ]
     },
     "execution_count": 16,
     "metadata": {},
     "output_type": "execute_result"
    }
   ],
   "source": [
    "# 違う型の和集合をとると、型が変わる。\n",
    "union(fruits, number)"
   ]
  },
  {
   "cell_type": "markdown",
   "metadata": {},
   "source": [
    "## Intersection (積集合)"
   ]
  },
  {
   "cell_type": "code",
   "execution_count": 17,
   "metadata": {
    "ExecuteTime": {
     "end_time": "2018-02-02T10:42:43.847000Z",
     "start_time": "2018-02-02T01:42:43.822Z"
    }
   },
   "outputs": [
    {
     "data": {
      "text/plain": [
       "Set(String[\"apple\"])"
      ]
     },
     "execution_count": 17,
     "metadata": {},
     "output_type": "execute_result"
    }
   ],
   "source": [
    "# 積集合を取る方法は簡単。intersectをつかうだけ\n",
    "intersect(fruits, another_fruits)"
   ]
  },
  {
   "cell_type": "code",
   "execution_count": 18,
   "metadata": {
    "ExecuteTime": {
     "end_time": "2018-02-02T10:42:44.242000Z",
     "start_time": "2018-02-02T01:42:44.238Z"
    }
   },
   "outputs": [
    {
     "data": {
      "text/plain": [
       "Set{String}()"
      ]
     },
     "execution_count": 18,
     "metadata": {},
     "output_type": "execute_result"
    }
   ],
   "source": [
    "# 同じ要素を持たない集合同士の演算だと、空の集合が帰ってくる。\n",
    "intersect(fruits, drink)"
   ]
  },
  {
   "cell_type": "markdown",
   "metadata": {},
   "source": [
    "## Difference(差集合)"
   ]
  },
  {
   "cell_type": "code",
   "execution_count": 19,
   "metadata": {
    "ExecuteTime": {
     "end_time": "2018-02-02T10:42:46.010000Z",
     "start_time": "2018-02-02T01:42:45.991Z"
    }
   },
   "outputs": [
    {
     "data": {
      "text/plain": [
       "Set(String[\"orange\", \"banana\"])"
      ]
     },
     "execution_count": 19,
     "metadata": {},
     "output_type": "execute_result"
    }
   ],
   "source": [
    "# 一つ目の引数に指定した集合にはあるが、2つ目の集合にはないものを取得する\n",
    "setdiff(fruits, another_fruits)"
   ]
  }
 ],
 "metadata": {
  "kernelspec": {
   "display_name": "Julia 0.6.0",
   "language": "julia",
   "name": "julia-0.6"
  },
  "language_info": {
   "file_extension": ".jl",
   "mimetype": "application/julia",
   "name": "julia",
   "version": "0.6.0"
  },
  "latex_envs": {
   "LaTeX_envs_menu_present": true,
   "autocomplete": true,
   "bibliofile": "biblio.bib",
   "cite_by": "apalike",
   "current_citInitial": 1,
   "eqLabelWithNumbers": true,
   "eqNumInitial": 1,
   "hotkeys": {
    "equation": "Ctrl-E",
    "itemize": "Ctrl-I"
   },
   "labels_anchors": false,
   "latex_user_defs": false,
   "report_style_numbering": false,
   "user_envs_cfg": false
  },
  "toc": {
   "colors": {
    "hover_highlight": "#DAA520",
    "navigate_num": "#000000",
    "navigate_text": "#333333",
    "running_highlight": "#FF0000",
    "selected_highlight": "#FFD700",
    "sidebar_border": "#EEEEEE",
    "wrapper_background": "#FFFFFF"
   },
   "moveMenuLeft": true,
   "nav_menu": {
    "height": "160px",
    "width": "254px"
   },
   "navigate_menu": true,
   "number_sections": true,
   "sideBar": true,
   "threshold": 4,
   "toc_cell": true,
   "toc_section_display": "block",
   "toc_window_display": true,
   "widenNotebook": false
  }
 },
 "nbformat": 4,
 "nbformat_minor": 2
}
